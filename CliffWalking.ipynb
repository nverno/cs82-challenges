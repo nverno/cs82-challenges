{
 "cells": [
  {
   "cell_type": "markdown",
   "metadata": {},
   "source": [
    "# Challenge Assignment\n",
    "## Cliff Walking with Reinforcement Learning\n",
    "\n",
    "## CSCI E-82A\n",
    "\n",
    "### Name: Noah Peart\n",
    "\n",
    ">**Make sure** you include your name along with the name of your team and team members in the notebook you submit."
   ]
  },
  {
   "cell_type": "markdown",
   "metadata": {},
   "source": [
    "**Your name and team name here:** Horse"
   ]
  },
  {
   "cell_type": "markdown",
   "metadata": {},
   "source": [
    "## Introduction\n",
    "\n",
    "In this challenge you will apply Monte Carlo reinforcement learning algorithms to a classic problem in reinforcement learning, known as the **cliff walking problem**. The cliff walking problem is a type of game. The goal is for the agent to find the highest reward (lowest cost) path from a starting state to the goal.   \n",
    "\n",
    "There are a number of versions of the cliff walking problems which have been used as research benchmarks over the years. You can find a short discussion of the cliff walking problem on page 132 of Sutton and Barto, second edition.    \n",
    "\n",
    "In the general cliff walking problem the agent starts in one corner of the state-space and must travel to goal, or terminal state, in another corner of the state-space. Between the starting state and goal state there is an area with a **cliff**. If the agent falls off a cliff it is sent back to the starting state. A schematic diagram of the state-space is shown in the diagram below.      \n",
    "\n",
    "<img src=\"CliffWalkingDiagram.JPG\" alt=\"Drawing\" style=\"width:500px; height:400px\"/>\n",
    "<center> State-space of cliff-walking problem </center>\n",
    "\n"
   ]
  },
  {
   "cell_type": "markdown",
   "metadata": {},
   "source": [
    "### Problem Description\n",
    "\n",
    "The agent must learn a policy to navigate from the starting state to the terminal state. The properties this problem are as follows:\n",
    "\n",
    "1. The state-space has two **continuous variables**, x and y.\n",
    "2. The starting state is at $x = 0.0$, $y = 0.0$. \n",
    "3. The terminal state has two segments:\n",
    "  - At $y = 0.0$ is in the range $9.0 \\le x \\le 10.0$. \n",
    "  - At $x = 10.0$ is in the range $0.0 \\le y \\le 1.0$.  \n",
    "4. The cliff zone is bounded by:\n",
    "  - $0.0 \\le y \\le 1.0$ and \n",
    "  - $1.0 \\le x \\le 9.0$. \n",
    "5. An agent entering the cliff zone is returned to the starting state.\n",
    "6. The agent moves 1.0 units per time step. \n",
    "7. The 8 possible **discrete actions** are moves in the following directions:  \n",
    "  - +x, \n",
    "  - +x, +y,\n",
    "  - +y\n",
    "  - -x, +y,\n",
    "  - -y,\n",
    "  - -x, -y,\n",
    "  - -y, and\n",
    "  - +x, -y. \n",
    "8. The rewards are:\n",
    "  - -1 for a time step in the state-space,\n",
    "  - -10 for colliding with an edge (barrier) of the state-space,\n",
    "  - -100 for falling off the cliff and returning to the starting state, and \n",
    "  - +1000 for reaching the terminal or goal state. \n",
    "  \n"
   ]
  },
  {
   "cell_type": "markdown",
   "metadata": {},
   "source": [
    "## Instructions\n",
    "\n",
    "In this challenge you and your team will do the following. Include commentary on each component of your algorithms. Make sure you answer the questions.  "
   ]
  },
  {
   "cell_type": "markdown",
   "metadata": {},
   "source": [
    "### Environment Simulator   \n",
    "\n",
    "Your reinforcement learning agent cannot contain any information about the environment other that the starting state and the possible actions. Therefore, you must create an environment simulator, with the following input and output:\n",
    "- Input: Arguments of state, the $(x,y)$ tuple, and discrete action\n",
    "- Output: the new state (s'), reward, and if the new state meets the terminal or goal criteria.\n",
    "\n",
    "Make sure you test your simulator functions carefully. The test cases must include, steps with each of the actions, falling off the cliff from each edge, hitting the barriers, and reaching the goal (terminal) edges. Errors in the simulator will make the rest of this challenge difficult.   \n",
    "\n",
    "> **Note**: For this problem, coordinate state is represented by a tuple of continuous variables. Make sure that you maintain coordinate state as continuous variables for this problem. "
   ]
  },
  {
   "cell_type": "code",
   "execution_count": 30,
   "metadata": {},
   "outputs": [
    {
     "data": {
      "text/plain": [
       "'%.3f'"
      ]
     },
     "execution_count": 30,
     "metadata": {},
     "output_type": "execute_result"
    }
   ],
   "source": [
    "import numpy as np\n",
    "import numpy.random as nr\n",
    "import matplotlib.pyplot as plt\n",
    "from copy import deepcopy\n",
    "import numpy.linalg as la\n",
    "import matplotlib.pyplot as plt\n",
    "import itertools\n",
    "from itertools import product\n",
    "import pandas as pd\n",
    "\n",
    "%matplotlib inline\n",
    "%precision 3"
   ]
  },
  {
   "cell_type": "code",
   "execution_count": 2,
   "metadata": {},
   "outputs": [],
   "source": [
    "# Representations of actions and accessor functions\n",
    "raw_actions = [(0,1), (0,-1), (1,0), (1,1), (1,-1), (-1,0), (-1,1), (-1,-1)]\n",
    "\n",
    "def vec_to_move(vec):\n",
    "    v = np.array(vec, dtype=np.float)\n",
    "    if (sum(abs(v)) > 1):\n",
    "        v *= 0.707\n",
    "    return v\n",
    "\n",
    "def get_actions(actions=raw_actions):\n",
    "    \"\"\"Convert actions to numpy arrays, and create reverse lookup tables.\"\"\"\n",
    "    vecs_normalized = list(map(lambda x: vec_to_move(x), actions))\n",
    "    return vecs_normalized, {a: i for i,a in enumerate(actions)},\\\n",
    "        {i: a for i,a in enumerate(actions)}\n",
    "\n",
    "def get_action_index(action):\n",
    "    \"\"\"Return index from action tuple.\"\"\"\n",
    "    return actions_index[action]\n",
    "\n",
    "def get_index_action(index):\n",
    "    \"\"\"Return action tuple from index.\"\"\"\n",
    "    return index_actions[index]\n",
    "\n",
    "actions, actions_index, index_actions = get_actions()"
   ]
  },
  {
   "cell_type": "code",
   "execution_count": 3,
   "metadata": {},
   "outputs": [
    {
     "data": {
      "text/plain": [
       "[array([0., 1.]),\n",
       " array([ 0., -1.]),\n",
       " array([1., 0.]),\n",
       " array([0.707, 0.707]),\n",
       " array([ 0.707, -0.707]),\n",
       " array([-1.,  0.]),\n",
       " array([-0.707,  0.707]),\n",
       " array([-0.707, -0.707])]"
      ]
     },
     "execution_count": 3,
     "metadata": {},
     "output_type": "execute_result"
    }
   ],
   "source": [
    "actions"
   ]
  },
  {
   "cell_type": "code",
   "execution_count": 4,
   "metadata": {},
   "outputs": [],
   "source": [
    "def is_terminal(loc):\n",
    "    \"\"\"Return True if x,y is in the terminal state.\"\"\"\n",
    "    x, y = loc\n",
    "    return (y <= 0 and x >= 9) or (x >= 10 and y <= 1)\n",
    "\n",
    "\n",
    "def sim_environment(loc, action):\n",
    "    \"\"\"\n",
    "    Update current LOC with ACTION.\n",
    "    :loc is a numpy array of (x, y) of current location\n",
    "    :action is a numpy array representing movement vector (x, y)\n",
    "    \"\"\"\n",
    "    new_loc = loc + action\n",
    "    x, y = new_loc\n",
    "    \n",
    "    if is_terminal(new_loc):\n",
    "        return new_loc, 1000, True\n",
    "    \n",
    "    # Returns to initial location if falls off of cliff\n",
    "    if x >= 1 and x <= 9 and y <= 1:\n",
    "        return np.array([0,0]), -100, False\n",
    "\n",
    "    # If hits a wall, stays in initial location\n",
    "    if x < 0 or x > 10 or y < 0 or y > 10:\n",
    "        return loc, -10, False\n",
    "\n",
    "    return new_loc, -1, False"
   ]
  },
  {
   "cell_type": "markdown",
   "metadata": {},
   "source": [
    "### Grid Approximation\n",
    "\n",
    "The state-space of the cliff walking problem is continuous. Therefor, you will need to use a **grid approximation** to construct a policy. The policy is specified as the probability of action for each grid cell. For this problem, use a 10x10 grid. \n",
    "\n",
    "> **Note:** While the policy uses a grid approximation, state should be represented as continuous variables."
   ]
  },
  {
   "cell_type": "code",
   "execution_count": 5,
   "metadata": {},
   "outputs": [],
   "source": [
    "def state(x, x_lims = (0.0,10.0), n_tiles = 10):\n",
    "    \"\"\"Function to compute tile state given positon\"\"\"\n",
    "    state = int((x - x_lims[0])/(x_lims[1] - x_lims[0]) * float(n_tiles))\n",
    "    if state > n_tiles - 1:\n",
    "        state = n_tiles - 1\n",
    "    return state\n",
    "\n",
    "def grid_state(loc):\n",
    "    \"\"\"Convert x,y coordinates into single state value.\"\"\"\n",
    "    return state(loc[0]) + 10 * state(loc[1])\n",
    "\n",
    "def grid_index(num):\n",
    "    \"\"\"Convert state to x,y coordinates in grid.\"\"\"\n",
    "    return num % 10, num // 10\n",
    "\n",
    "# Monte Carlo State Value Estimation\n",
    "def take_action(loc, policy, actions=actions):\n",
    "    '''\n",
    "    Function takes action given state using the transition probabilities \n",
    "    of the policy.\n",
    "    '''\n",
    "    ## Find the action given the transistion probabilities defined by the policy.\n",
    "    x_grid, y_grid = state(loc[0]), state(loc[1])\n",
    "    ind = nr.choice(8, p = policy[x_grid][y_grid])\n",
    "    action = actions[ind]\n",
    "    loc, reward, terminal = sim_environment(loc, action)\n",
    "    return ind, action, loc, reward, terminal"
   ]
  },
  {
   "cell_type": "markdown",
   "metadata": {},
   "source": [
    "### Initial Policy\n",
    "\n",
    "Start with a uniform initial policy. A uniform policy has an equal probability of taking any of the 8 possible actions for each cell in the grid representation.     \n",
    "\n",
    "> **Note:** As has already been stated, the coordinate state representation for this problem is a tuple of coordinate values. However, policy, state-values and action-values are represented with a grid approximation. \n",
    "\n",
    "> **Hint:** You may wish to use a 3-dimensional numpy array to code the policy for this problem. With 8 possible actions, this approach will be easier to work with. \n",
    "\n"
   ]
  },
  {
   "cell_type": "code",
   "execution_count": 6,
   "metadata": {},
   "outputs": [
    {
     "data": {
      "text/plain": [
       "array([[0.125, 0.125, 0.125, 0.125, 0.125, 0.125, 0.125, 0.125],\n",
       "       [0.125, 0.125, 0.125, 0.125, 0.125, 0.125, 0.125, 0.125],\n",
       "       [0.125, 0.125, 0.125, 0.125, 0.125, 0.125, 0.125, 0.125],\n",
       "       [0.125, 0.125, 0.125, 0.125, 0.125, 0.125, 0.125, 0.125],\n",
       "       [0.125, 0.125, 0.125, 0.125, 0.125, 0.125, 0.125, 0.125],\n",
       "       [0.125, 0.125, 0.125, 0.125, 0.125, 0.125, 0.125, 0.125],\n",
       "       [0.125, 0.125, 0.125, 0.125, 0.125, 0.125, 0.125, 0.125],\n",
       "       [0.125, 0.125, 0.125, 0.125, 0.125, 0.125, 0.125, 0.125],\n",
       "       [0.125, 0.125, 0.125, 0.125, 0.125, 0.125, 0.125, 0.125],\n",
       "       [0.125, 0.125, 0.125, 0.125, 0.125, 0.125, 0.125, 0.125]])"
      ]
     },
     "execution_count": 6,
     "metadata": {},
     "output_type": "execute_result"
    }
   ],
   "source": [
    "def get_initial_policy(nactions, x, y):\n",
    "    \"\"\"\n",
    "    Generate initial policy given a number of actions and \n",
    "    x,y-dimensions of grid\n",
    "    \"\"\"\n",
    "    # ensure lists aren't pointers to same memory\n",
    "    return np.ones((x, y, nactions)) * 1./nactions\n",
    "\n",
    "initial_policy = get_initial_policy(8, 10, 10)\n",
    "initial_policy[0]"
   ]
  },
  {
   "cell_type": "markdown",
   "metadata": {},
   "source": [
    "### Monte Carlo State Value Estimation   \n",
    "\n",
    "For the initial uniform policy, compute the state values using the Monte Carlo RL algorithm:\n",
    "1. Compute and print the state values for each grid in the representation. Use at least 1,000 episodes. This will take some time to execute.      \n",
    "2. Plot the grid of state values, as an image (e.g. matplotlib [imshow](https://matplotlib.org/3.1.1/api/_as_gen/matplotlib.pyplot.imshow.html)). \n",
    "3. Compute the Forbenious norm (Euclidean norm) of the state value array with [numpy.linalg.norm](https://docs.scipy.org/doc/numpy/reference/generated/numpy.linalg.norm.html). You will use this figure as a basis to compare your improved policy. \n",
    "\n",
    "Study your plot to ensure your state values seem correct. Do these state values seem reasonable given the uniform policy and why? Make sure you pay attention to the state values of the cliff zone.    \n",
    "\n",
    "> **Hint:** Careful testing at each stage of your algorithm development will potentially save you considerable time. Test your function(s) to for a single episode to make sure your algorithm converges. Then test for say 10 episodes to ensure the state values update in a reasonable manner at each episode.    \n",
    "\n",
    "> **Note:** The Monte Carlo episodes can be executed in parallel for production systems. The Markov chain of each episode is statistically independent. "
   ]
  },
  {
   "cell_type": "code",
   "execution_count": 7,
   "metadata": {},
   "outputs": [],
   "source": [
    "def MC_episode(policy, G, n_visits): \n",
    "    '''\n",
    "    Function creates the Monte Carlo samples of one episode.\n",
    "    This function does most of the real work\n",
    "    '''\n",
    "    ## For each episode we use a list to keep track of states we have visited.\n",
    "    ## Once we visit a state we need to accumulate values to get the returns\n",
    "    states_visited = np.zeros(100, dtype=np.bool)\n",
    "    visited = []\n",
    "    \n",
    "    ## Find the starting state\n",
    "    loc_current = np.array([0, 0])\n",
    "    current_state = grid_state(loc_current)\n",
    "    terminal = False\n",
    "\n",
    "    while not terminal:\n",
    "        ## Find the next action and reward\n",
    "        ind, action, loc_current, reward, terminal = take_action(loc_current, policy)\n",
    "\n",
    "        ## Add the reward to the states visited if this is a first visit\n",
    "        if not states_visited[current_state]:\n",
    "            ## Mark that the current state has been visited \n",
    "            states_visited[current_state] = True\n",
    "            visited.append(current_state)\n",
    "            ## Add the reward to states visited \n",
    "            for state in visited:\n",
    "                n_visits[state] += 1\n",
    "                G[state] += (reward - G[state])/n_visits[state]\n",
    "        \n",
    "        ## Update the current state for next transition\n",
    "        current_state = grid_state(loc_current)\n",
    "\n",
    "    return G, n_visits\n",
    "\n",
    "\n",
    "def MC_state_values(policy, n_episodes, verbose=False):\n",
    "    \"\"\"\n",
    "    Function that evaluates the state value of \n",
    "    a policy using the Monte Carlo method.\n",
    "    \"\"\"\n",
    "    ## Create list of states \n",
    "    n_states = 100\n",
    "    \n",
    "    ## An array to hold the accumulated returns as we visit states\n",
    "    G = np.zeros((n_states))\n",
    "    \n",
    "    ## An array to keep track of how many times we visit each state so we can \n",
    "    ## compute the mean\n",
    "    n_visits = np.zeros((n_states))\n",
    "    \n",
    "    ## Iterate over the episodes\n",
    "    for i in range(n_episodes):\n",
    "        if verbose and i % 100 == 0: print(f\"episode: {i}\")\n",
    "        G, n_visits = MC_episode(policy, G, n_visits)\n",
    "\n",
    "    return G"
   ]
  },
  {
   "cell_type": "code",
   "execution_count": 448,
   "metadata": {},
   "outputs": [
    {
     "name": "stdout",
     "output_type": "stream",
     "text": [
      "episode: 0\n",
      "episode: 100\n",
      "episode: 200\n",
      "episode: 300\n",
      "episode: 400\n",
      "episode: 500\n",
      "episode: 600\n",
      "episode: 700\n",
      "episode: 800\n",
      "episode: 900\n"
     ]
    }
   ],
   "source": [
    "# Compute state values for 1000 episodes\n",
    "n_episodes = 1000\n",
    "G = MC_state_values(initial_policy, n_episodes, verbose=True).reshape((10,10))"
   ]
  },
  {
   "cell_type": "code",
   "execution_count": 8,
   "metadata": {},
   "outputs": [],
   "source": [
    "# Functions to display state values\n",
    "def show_state_values(G):\n",
    "    \"\"\"Show state values with origin in bottom left.\"\"\"\n",
    "    return G[::-1]\n",
    "\n",
    "\n",
    "def plot_state_values(G):\n",
    "    \"\"\"Plot state values as image, with origin in bottom left.\"\"\"\n",
    "    plt.imshow(G, origin='lower')\n",
    "    \n",
    "    \n",
    "def state_value_norm(G):\n",
    "    \"\"\"Euc. norm of state values.\"\"\"\n",
    "    return la.norm(G)"
   ]
  },
  {
   "cell_type": "code",
   "execution_count": 450,
   "metadata": {
    "scrolled": true
   },
   "outputs": [
    {
     "data": {
      "text/plain": [
       "array([[ 4. ,  3.3,  3. ,  3.1,  3.4,  4. ,  4.7,  5.5,  7. ,  8.6],\n",
       "       [ 2.8,  2.4,  2.2,  2.2,  2.5,  2.9,  3.7,  4.1,  5.4,  7. ],\n",
       "       [ 2.2,  1.8,  1.7,  2. ,  2.2,  2.8,  3.3,  4. ,  4.9,  6.5],\n",
       "       [ 1.5,  1.3,  1.4,  1.7,  2. ,  2.4,  3. ,  3.8,  4.7,  6.4],\n",
       "       [ 1.1,  1. ,  1.1,  1.4,  1.9,  2.4,  2.9,  3.7,  5. ,  6.5],\n",
       "       [ 0.8,  0.6,  0.7,  1.1,  1.6,  2.3,  3.2,  4.2,  5.5,  7.3],\n",
       "       [ 0.2,  0.3,  0.5,  1. ,  1.7,  2.5,  3.8,  5. ,  6.5,  9.5],\n",
       "       [-0.2, -0.1,  0.3,  0.9,  1.8,  3. ,  4.5,  6.7,  9.8, 13.7],\n",
       "       [-0.6, -0.2,  0.6,  1.6,  2.6,  4.3,  5.8,  7.6, 12.6, 28.9],\n",
       "       [-0.8,  0. ,  0. ,  0. ,  0. ,  0. ,  0. ,  0. ,  0. , 96. ]])"
      ]
     },
     "execution_count": 450,
     "metadata": {},
     "output_type": "execute_result"
    }
   ],
   "source": [
    "# Show state values with origin in bottom left\n",
    "%precision 1\n",
    "np.set_printoptions(suppress=True)\n",
    "show_state_values(G)"
   ]
  },
  {
   "cell_type": "code",
   "execution_count": 432,
   "metadata": {},
   "outputs": [
    {
     "data": {
      "image/png": "[encoded data removed]",
      "text/plain": [
       "<Figure size 432x288 with 1 Axes>"
      ]
     },
     "metadata": {
      "needs_background": "light"
     },
     "output_type": "display_data"
    }
   ],
   "source": [
    "plot_state_values(G)"
   ]
  },
  {
   "cell_type": "code",
   "execution_count": 451,
   "metadata": {},
   "outputs": [
    {
     "data": {
      "text/plain": [
       "108.28496531933912"
      ]
     },
     "execution_count": 451,
     "metadata": {},
     "output_type": "execute_result"
    }
   ],
   "source": [
    "state_value_norm(G)"
   ]
  },
  {
   "cell_type": "markdown",
   "metadata": {},
   "source": [
    "**ANS**:  Yes, these state values do seem quite reasonable.  The cliff values are 0 and they increase towards the goal, where the rewards are the highest."
   ]
  },
  {
   "cell_type": "markdown",
   "metadata": {},
   "source": [
    "### Monte Carlo State Policy Improvement   \n",
    "\n",
    "Finally, you will perform Monte Carlo RL policy improvement:\n",
    "1. Starting with the uniform policy, compute action-values for each grid in the representation. Use at least 1,000 episodes.      \n",
    "2. Use these action values to find an improved policy.\n",
    "3. To evaluate your updated policy compute the state-values for this policy.  \n",
    "4. Plot the grid of state values for the improved policy, as an image. \n",
    "5. Compute the Forbenious norm (Euclidean norm) of the state value array. \n",
    "\n",
    "Compare the state value plot for the improved policy to the one for the initial uniform policy. Does the improved state values increase generally as distance to the terminal states decreases?  Is this what you expect and why?    \n",
    "\n",
    "Compare the norm of the state values with your improved policy to the norm for the uniform policy. Is the increase significant?  \n",
    "\n",
    "> **Hint:** Careful testing at each stage of your algorithm development will potentially save you considerable time. Test your function(s) to for a single episode to make sure your algorithm converges. Then test for say 10 episodes to ensure the state values update in a reasonable manner at each episode.   \n",
    "\n",
    "> **Note:** You could continue to improve policy using the general policy improvement algorithm (GPI). In the interest of time, you are not required to do so here. "
   ]
  },
  {
   "cell_type": "code",
   "execution_count": 26,
   "metadata": {},
   "outputs": [],
   "source": [
    "def MC_action_value_episode(policy, Q, n_visits, initial_state=0, \n",
    "                            n_states=100, n_actions=8):\n",
    "    '''\n",
    "    Function creates the Monte Carlo samples of action values for one episode.\n",
    "    This function does most of the real work.\n",
    "    '''\n",
    "    ## For each episode we use a list to keep track of states we have visited.\n",
    "    ## Once we visit a state we need to accumulate values to get the returns\n",
    "    state_actions_visited = np.zeros((n_states, n_actions), dtype=np.bool)\n",
    "    current_state = initial_state\n",
    "    loc_current = np.array(grid_index(current_state))\n",
    "    terminal = False\n",
    "\n",
    "    while not terminal:\n",
    "        ## Find the next action and reward\n",
    "        action_idx, action, loc_current, reward, terminal =\\\n",
    "            take_action(loc_current, policy)\n",
    "        \n",
    "        ## Check if this state-action has been visited.\n",
    "        if not state_actions_visited[current_state, action_idx]:\n",
    "            ## Mark that the current state-action has been visited \n",
    "            state_actions_visited[current_state, action_idx] = True\n",
    "            ## This is first vist MS, so must loop over all state-action pairs and \n",
    "            ## add the reward and increment the count for the ones visited.\n",
    "            for s,a in itertools.product(range(n_states), range(n_actions)):\n",
    "                ## Add reward to if these has been a visit to the state\n",
    "                if state_actions_visited[s, a]:\n",
    "                    n_visits[s, a] += 1\n",
    "                    Q[s, a] += (reward - Q[s, a]) / n_visits[s, a]\n",
    "        \n",
    "        ## Update the current state for next transition\n",
    "        current_state = grid_state(loc_current)\n",
    "    \n",
    "    return Q, n_visits"
   ]
  },
  {
   "cell_type": "code",
   "execution_count": 27,
   "metadata": {},
   "outputs": [],
   "source": [
    "def MC_action_values(policy, Q, n_episodes, initial_state=0, verbose=False):\n",
    "    '''\n",
    "    Function evaluates the action-values given a policy for the specified number\n",
    "    of episodes and initial state\n",
    "    '''\n",
    "    n_states = 100\n",
    "    n_actions = 8\n",
    "    ## Array to count visits to action-value pairs\n",
    "    n_visits = np.ones((n_states, n_actions))\n",
    "\n",
    "    ## Take n_episodes MC samples\n",
    "    for i in range(n_episodes):\n",
    "        if verbose and i % 100 == 0: print(f\"episode {i}\")\n",
    "        Q, n_visits =\\\n",
    "            MC_action_value_episode(\n",
    "                policy, Q, n_visits, initial_state, n_states, n_actions)\n",
    "\n",
    "    return Q"
   ]
  },
  {
   "cell_type": "code",
   "execution_count": 59,
   "metadata": {},
   "outputs": [
    {
     "name": "stdout",
     "output_type": "stream",
     "text": [
      "episode 0\n",
      "episode 100\n",
      "episode 200\n",
      "episode 300\n",
      "episode 400\n",
      "episode 500\n",
      "episode 600\n",
      "episode 700\n",
      "episode 800\n",
      "episode 900\n"
     ]
    }
   ],
   "source": [
    "# Compute action values (longish time)\n",
    "n_episodes = 1000\n",
    "initial_state = 0\n",
    "Q = np.zeros((100, 8))\n",
    "Q = MC_action_values(initial_policy, Q, n_episodes, initial_state, verbose=True)"
   ]
  },
  {
   "cell_type": "code",
   "execution_count": 60,
   "metadata": {},
   "outputs": [
    {
     "name": "stdout",
     "output_type": "stream",
     "text": [
      "           N         S         E        NE        SE         W        NW  \\\n",
      "0  -2.592053 -2.550643 -2.642424 -2.551675 -2.564057 -2.550556 -2.553908   \n",
      "1   0.000000  0.000000  0.000000  0.000000  0.000000  0.000000  0.000000   \n",
      "2   0.000000  0.000000  0.000000  0.000000  0.000000  0.000000  0.000000   \n",
      "3   0.000000  0.000000  0.000000  0.000000  0.000000  0.000000  0.000000   \n",
      "4   0.000000  0.000000  0.000000  0.000000  0.000000  0.000000  0.000000   \n",
      "..       ...       ...       ...       ...       ...       ...       ...   \n",
      "95 -1.425515 -1.518202 -1.451987 -1.441361 -1.470037 -1.510472 -1.436709   \n",
      "96 -1.289208 -1.445432 -1.430490 -1.270460 -1.336315 -1.446343 -1.329209   \n",
      "97 -1.208539 -1.306150 -1.321090 -1.102154 -1.232574 -1.304179 -1.294322   \n",
      "98 -1.127935 -1.265189 -1.194539 -1.128849 -1.166029 -1.255976 -1.137807   \n",
      "99 -1.107260 -1.224818 -1.033191 -1.044050 -1.021368 -1.104608 -1.033562   \n",
      "\n",
      "          SW  \n",
      "0  -2.550222  \n",
      "1   0.000000  \n",
      "2   0.000000  \n",
      "3   0.000000  \n",
      "4   0.000000  \n",
      "..       ...  \n",
      "95 -1.539568  \n",
      "96 -1.395352  \n",
      "97 -1.323958  \n",
      "98 -1.141901  \n",
      "99 -1.221115  \n",
      "\n",
      "[100 rows x 8 columns]\n"
     ]
    }
   ],
   "source": [
    "def print_Q(Q):\n",
    "    \"\"\"Helper to pretty print Q output\"\"\"\n",
    "    Q = pd.DataFrame(Q, columns = ['N', 'S', 'E', 'NE', 'SE', 'W', 'NW', 'SW'])\n",
    "    print(Q)\n",
    "\n",
    "# states 1-8 are cliff zones, so are expected to be 0\n",
    "print_Q(Q)"
   ]
  },
  {
   "cell_type": "code",
   "execution_count": null,
   "metadata": {},
   "outputs": [],
   "source": [
    "def update_policy(policy, Q, epsilon, nstates=100, keys=raw_actions):\n",
    "    '''\n",
    "    Updates the policy based on estimates of Q using an epslion greedy\n",
    "    algorithm. The action with the highest action value is used.\n",
    "    '''\n",
    "    ## Iterate over the states and find the maximm action value.\n",
    "    for state in range(nstates):\n",
    "        ## First find the index of the max Q values  \n",
    "        q = Q[state,:]\n",
    "        max_action_index = np.where(q == max(q))[0]\n",
    "\n",
    "        ## Find the probabilities for the transitions\n",
    "        n_transitions = float(len(q))\n",
    "        n_max_transitions = float(len(max_action_index))\n",
    "        p_max_transitions =\\\n",
    "            (1.0 - epsilon *(n_transitions - n_max_transitions))/(n_max_transitions)\n",
    "        nx, ny = grid_index(state)\n",
    "            \n",
    "        ## Now assign the probabilities to the policy as epsilon greedy.\n",
    "        for key in keys:\n",
    "            index = get_action_index(key)\n",
    "            if index in max_action_index:\n",
    "                policy[nx][ny][index] = p_max_transitions\n",
    "            else:\n",
    "                policy[nx][ny][index] = epsilon\n",
    "            policy[nx,ny,:] /= sum(policy[nx,ny,:])\n",
    "\n",
    "    return policy"
   ]
  },
  {
   "cell_type": "code",
   "execution_count": 458,
   "metadata": {
    "scrolled": true
   },
   "outputs": [
    {
     "data": {
      "text/plain": [
       "array([[0. , 0.9, 0. , 0. , 0. , 0. , 0. , 0. ],\n",
       "       [0. , 0. , 0. , 0. , 0. , 0. , 0.9, 0. ],\n",
       "       [0. , 0. , 0. , 0. , 0. , 0. , 0.9, 0. ],\n",
       "       [0. , 0. , 0. , 0.9, 0. , 0. , 0. , 0. ],\n",
       "       [0. , 0. , 0. , 0. , 0. , 0. , 0.9, 0. ],\n",
       "       [0. , 0. , 0. , 0. , 0. , 0. , 0.9, 0. ],\n",
       "       [0. , 0. , 0. , 0. , 0. , 0. , 0. , 0.9],\n",
       "       [0. , 0. , 0. , 0. , 0. , 0.9, 0. , 0. ],\n",
       "       [0. , 0. , 0. , 0. , 0. , 0. , 0. , 0.9],\n",
       "       [0. , 0. , 0. , 0. , 0. , 0. , 0.9, 0. ]])"
      ]
     },
     "execution_count": 458,
     "metadata": {},
     "output_type": "execute_result"
    }
   ],
   "source": [
    "# Update policy based on Q, single iteration\n",
    "eps = 0.01\n",
    "policy = update_policy(deepcopy(initial_policy), Q, eps)\n",
    "policy[0]"
   ]
  },
  {
   "cell_type": "code",
   "execution_count": 13,
   "metadata": {},
   "outputs": [],
   "source": [
    "# Visualization routine provided by Sarah on canvas\n",
    "def arrow_xy(action, prob):\n",
    "    ## Position change given action:\n",
    "    if(action == 0): # move right\n",
    "        a_out = [0, 1]\n",
    "    elif(action == 1): # move right-up\n",
    "        a_out = [0, -1]\n",
    "    elif(action == 2): # move up\n",
    "        a_out = [1, 0]\n",
    "    elif(action == 3): # move left-up\n",
    "        a_out = [1, 1]\n",
    "    elif(action == 4): # move left\n",
    "        a_out = [1, -1]\n",
    "    elif(action == 5): # move left-down\n",
    "        a_out = [-1, 0]\n",
    "    elif(action == 6): # move down\n",
    "        a_out = [-1, 1]\n",
    "    elif(action == 7): # move right-down\n",
    "        a_out = [-1, -1]\n",
    "    return [prob*z for z in a_out]\n",
    "\n",
    "def display_policy(policy, num_cells = 10, lims = 10.0):\n",
    "    '''\n",
    "    Funciton plots arrows in the direction of actions with length \n",
    "    of arrows proportional to probability\n",
    "\n",
    "    Policy argument must be a numpy array with dimensions:\n",
    "    grid x-dimension cell index\n",
    "    grid y-dimension cell index\n",
    "    acton index\n",
    "    '''\n",
    "    ## Find max arrow length \n",
    "    cell_width = lims/float(num_cells)\n",
    "    arrow_length = 0.5 * cell_width\n",
    "\n",
    "    ## Set up the figure area\n",
    "    fig = plt.figure(figsize=(8, 8)) # define plot area\n",
    "    ax = fig.gca() # define axis \n",
    "\n",
    "    ## Iterate over the grid and plot\n",
    "    for x_indx, y_indx, action in product(range(num_cells),range(num_cells),range(8)):\n",
    "        ## Find endpoints of the line segment\n",
    "        move = arrow_xy(action, policy[x_indx][y_indx][action])\n",
    "        x0 = x_indx * cell_width + arrow_length\n",
    "        x1 = x0 + move[0]\n",
    "        y0 = y_indx * cell_width + arrow_length\n",
    "        y1 = y0 + move[1]\n",
    "        ## now plot \n",
    "        # ax.plot([x0,x1],[y0,y1])\n",
    "        ax.annotate(' ', xytext =(x0,y0), xy = (x1,y1), arrowprops = ({'arrowstyle':'->'}))\n",
    "\n",
    "    ## Now plot the grid\n",
    "    ## first the vertical lines\n",
    "    for indx in range(num_cells-1):\n",
    "        x = cell_width *(indx+1)\n",
    "        ax.plot([x,x],[0.0,lims], linestyle='dashed', color='green')\n",
    "    ## now the horrizontal lines\n",
    "    for indx in range(num_cells-1):\n",
    "        y = cell_width *(indx+1)\n",
    "        ax.plot([0.0,lims],[y,y], linestyle='dashed', color='green') \n",
    "    ## and boundaries\n",
    "    ax.plot([0.0,0.0], [0.0,lims], color = 'black')\n",
    "    ax.plot([0.0,lims], [0.0,0.0], color = 'black')\n",
    "    ax.plot([lims,0.0], [lims,lims], color = 'black')\n",
    "    ax.plot([lims,lims], [0.0,lims], color = 'black')"
   ]
  },
  {
   "cell_type": "code",
   "execution_count": 478,
   "metadata": {},
   "outputs": [
    {
     "data": {
      "image/png": "[encoded data removed]",
      "text/plain": [
       "<Figure size 576x576 with 1 Axes>"
      ]
     },
     "metadata": {
      "needs_background": "light"
     },
     "output_type": "display_data"
    }
   ],
   "source": [
    "display_policy(policy)"
   ]
  },
  {
   "cell_type": "markdown",
   "metadata": {},
   "source": [
    "The policy found after a single policy update iteration isn't that appealing.  Towards the goal the arrows do seem to point in the correct directions, but in general the results are rather random looking.  Hopefully, with many more policy update iterations, eventually a good policy would stabilize."
   ]
  },
  {
   "cell_type": "code",
   "execution_count": 52,
   "metadata": {},
   "outputs": [],
   "source": [
    "def MC_policy_improvement(policy, n_episodes, n_cycles, initial_state = 0, \n",
    "                          epsilon = 0.1, n_actions = 8, verbose=True):\n",
    "    '''\n",
    "    Function perfoms GPI using Monte Carlo value estimation.\n",
    "    Updates to policy are epsilon greedy to prevent the algorithm\n",
    "    from being trapped at some point.\n",
    "    '''\n",
    "    Q = np.zeros((100, n_actions))\n",
    "\n",
    "    for i in range(n_cycles):\n",
    "        if verbose: print(f\"iteration {i}: e = {epsilon}\")\n",
    "        Q = MC_action_values(policy, Q, n_episodes, initial_state, verbose=verbose)\n",
    "        policy = update_policy(policy, Q, epsilon = epsilon)\n",
    "        # decrease epsilon each iteration\n",
    "        epsilon *= 0.75\n",
    "\n",
    "    return policy"
   ]
  },
  {
   "cell_type": "code",
   "execution_count": 57,
   "metadata": {},
   "outputs": [
    {
     "name": "stdout",
     "output_type": "stream",
     "text": [
      "iteration 0: e = 0.1\n",
      "episode 0\n",
      "episode 100\n",
      "episode 200\n",
      "episode 300\n",
      "episode 400\n",
      "episode 500\n",
      "episode 600\n",
      "episode 700\n",
      "episode 800\n",
      "episode 900\n",
      "iteration 1: e = 0.05\n",
      "episode 0\n",
      "episode 100\n",
      "episode 200\n",
      "episode 300\n",
      "episode 400\n",
      "episode 500\n",
      "episode 600\n",
      "episode 700\n",
      "episode 800\n",
      "episode 900\n",
      "iteration 2: e = 0.025\n",
      "episode 0\n",
      "episode 100\n",
      "episode 200\n",
      "episode 300\n",
      "episode 400\n",
      "episode 500\n",
      "episode 600\n",
      "episode 700\n",
      "episode 800\n",
      "episode 900\n",
      "iteration 3: e = 0.0125\n",
      "episode 0\n",
      "episode 100\n",
      "episode 200\n",
      "episode 300\n",
      "episode 400\n",
      "episode 500\n",
      "episode 600\n",
      "episode 700\n",
      "episode 800\n",
      "episode 900\n",
      "iteration 4: e = 0.00625\n",
      "episode 0\n",
      "episode 100\n",
      "episode 200\n",
      "episode 300\n",
      "episode 400\n",
      "episode 500\n",
      "episode 600\n",
      "episode 700\n",
      "episode 800\n",
      "episode 900\n",
      "iteration 5: e = 0.003125\n",
      "episode 0\n",
      "episode 100\n",
      "episode 200\n",
      "episode 300\n",
      "episode 400\n",
      "episode 500\n",
      "episode 600\n",
      "episode 700\n",
      "episode 800\n",
      "episode 900\n",
      "iteration 6: e = 0.0015625\n",
      "episode 0\n",
      "episode 100\n",
      "episode 200\n",
      "episode 300\n",
      "episode 400\n",
      "episode 500\n",
      "episode 600\n",
      "episode 700\n",
      "episode 800\n",
      "episode 900\n",
      "iteration 7: e = 0.00078125\n",
      "episode 0\n",
      "episode 100\n",
      "episode 200\n",
      "episode 300\n",
      "episode 400\n",
      "episode 500\n",
      "episode 600\n",
      "episode 700\n",
      "episode 800\n",
      "episode 900\n",
      "iteration 8: e = 0.000390625\n",
      "episode 0\n",
      "episode 100\n",
      "episode 200\n",
      "episode 300\n",
      "episode 400\n",
      "episode 500\n",
      "episode 600\n",
      "episode 700\n",
      "episode 800\n",
      "episode 900\n",
      "iteration 9: e = 0.0001953125\n",
      "episode 0\n",
      "episode 100\n",
      "episode 200\n",
      "episode 300\n",
      "episode 400\n",
      "episode 500\n",
      "episode 600\n",
      "episode 700\n",
      "episode 800\n",
      "episode 900\n"
     ]
    }
   ],
   "source": [
    "# run iterative policy improvements starting from initial policy\n",
    "improved_policy = MC_policy_improvement(deepcopy(initial_policy), 1000, 10, epsilon = 0.1, verbose=True)"
   ]
  },
  {
   "cell_type": "markdown",
   "metadata": {},
   "source": [
    "The iteratively improved policy looks much better than the early single-step version.  Here there is some coherency to the paths, generally tending towards the goal state."
   ]
  },
  {
   "cell_type": "code",
   "execution_count": 58,
   "metadata": {},
   "outputs": [
    {
     "data": {
      "image/png": "[encoded data removed]",
      "text/plain": [
       "<Figure size 576x576 with 1 Axes>"
      ]
     },
     "metadata": {
      "needs_background": "light"
     },
     "output_type": "display_data"
    }
   ],
   "source": [
    "display_policy(improved_policy)"
   ]
  },
  {
   "cell_type": "markdown",
   "metadata": {},
   "source": [
    "**Refer to cells below for results**\n",
    "\n",
    "ANS:  Yes, the state values decrease as distance from the goal increases.\n",
    "\n",
    "ANS:  This is expected, since the rewards are highest at the goal state.\n",
    "\n",
    "ANS:  Yes, there is a big difference (order of magnitude) between the unimproved norm, ~100, and the improved, ~1500."
   ]
  },
  {
   "cell_type": "markdown",
   "metadata": {},
   "source": [
    "## Solution\n",
    "\n",
    "Create cells below for your solution to the stated problem. Be sure to include some Markdown text and code comments to explain each component of your algorithm. "
   ]
  },
  {
   "cell_type": "markdown",
   "metadata": {},
   "source": [
    "### Algorithm\n",
    "We used a Monte Carlo random walk across the grid as a brute-force approach to\n",
    "determine the optimal policy.  A Monte Carlo approach was chosen because each\n",
    "individual step was independent of previous steps. As such, there was no\n",
    "guarantee that the algorithm will converge. \n",
    "\n",
    "Our initial policy was a uniform distribution describing an equal probability of\n",
    "moving in any direction from all locations in the grid. Policies were computed\n",
    "for a large number of random walks that were then averaged to estimate the true\n",
    "policy, eg. the one that travels from the initial starting point to the goal\n",
    "with the least number of steps.\n",
    "\n",
    "Each walk started from an intial point, and there were 8 possible actions for\n",
    "each step -- a single unit of movement in each cardinal and diagonal direction.\n",
    "Penalities were assigned for falling off for each step and falling off the cliff.\n",
    "After step on the walk the number of visits to the current grid were updated.\n",
    "\n",
    "The policy used to inform the randomized decisions at each step in the MC walk were updated successively using computed state value matrices.\n",
    "\n",
    "Finally, the policy was updated iteratively using an epsilon greedy approach, with a decreasing value of epsilon at each step.\n",
    "\n",
    "Given the independence of each random walk, this algorithm could be parallelized quite easily for most stages."
   ]
  },
  {
   "cell_type": "code",
   "execution_count": 61,
   "metadata": {},
   "outputs": [
    {
     "name": "stdout",
     "output_type": "stream",
     "text": [
      "episode: 0\n"
     ]
    }
   ],
   "source": [
    "#  Does the improved state values increase generally as distance to the terminal states \n",
    "#  decreases?  Is this what you expect and why?\n",
    "G_imp = MC_state_values(improved_policy, 100, verbose=True).reshape((10,10))"
   ]
  },
  {
   "cell_type": "code",
   "execution_count": 64,
   "metadata": {},
   "outputs": [
    {
     "data": {
      "text/plain": [
       "array([[   0. ,    0. ,    0. ,    0. ,    0. ,    0. ,    0. ,    0. ,\n",
       "           0. ,    0. ],\n",
       "       [   0. ,    0. ,    0. ,    0. ,    0. ,    0. ,    0. ,    0. ,\n",
       "           0. ,    0. ],\n",
       "       [   0. ,    0. ,    0. ,    0. ,    0. ,    0. ,    0. ,    0. ,\n",
       "           0. ,    0. ],\n",
       "       [   0. ,    0. ,    0. ,    0. ,   98.6,   98.2,  109.2,  116.8,\n",
       "         136.8,  158.8],\n",
       "       [   0. ,    0. ,   75.7,   81.9,   91.5,   95.9,   86.8,   85.7,\n",
       "          -1. ,  189.2],\n",
       "       [   0. ,   69.9,   82.4,   83.2,   89.1,  112.3,   88.6,   86.8,\n",
       "          -1. ,  234. ],\n",
       "       [  65.7,   63.3,   72.7,   81.4,   89.3,  111.8,   72. ,   80.9,\n",
       "          69.2,  307. ],\n",
       "       [  55. ,   58.8,   69.3,    0. ,   79.1,  107.6,  171.9,  203.8,\n",
       "         257.4,  371.7],\n",
       "       [  51.3,    0. ,    0. ,    0. ,   95.8,  120.2,  127.5,  149.2,\n",
       "         348.7,  632.1],\n",
       "       [  48.2,    0. ,    0. ,    0. ,    0. ,    0. ,    0. ,    0. ,\n",
       "           0. , 1000. ]])"
      ]
     },
     "execution_count": 64,
     "metadata": {},
     "output_type": "execute_result"
    }
   ],
   "source": [
    "# Examines the state values between the improved policy and the previous.\n",
    "%precision 1\n",
    "np.set_printoptions(suppress=True)\n",
    "show_state_values(G_imp)"
   ]
  },
  {
   "cell_type": "code",
   "execution_count": 62,
   "metadata": {},
   "outputs": [
    {
     "data": {
      "image/png": "[encoded data removed]",
      "text/plain": [
       "<Figure size 432x288 with 1 Axes>"
      ]
     },
     "metadata": {
      "needs_background": "light"
     },
     "output_type": "display_data"
    }
   ],
   "source": [
    "plot_state_values(G_imp)"
   ]
  },
  {
   "cell_type": "code",
   "execution_count": 63,
   "metadata": {},
   "outputs": [
    {
     "data": {
      "text/plain": [
       "1524.1910672369202"
      ]
     },
     "execution_count": 63,
     "metadata": {},
     "output_type": "execute_result"
    }
   ],
   "source": [
    "# Compare the norm between the improved policy and the previous\n",
    "state_value_norm(G_imp)"
   ]
  }
 ],
 "metadata": {
  "kernelspec": {
   "display_name": "Python 3",
   "language": "python",
   "name": "python3"
  },
  "language_info": {
   "codemirror_mode": {
    "name": "ipython",
    "version": 3
   },
   "file_extension": ".py",
   "mimetype": "text/x-python",
   "name": "python",
   "nbconvert_exporter": "python",
   "pygments_lexer": "ipython3",
   "version": "3.7.3"
  }
 },
 "nbformat": 4,
 "nbformat_minor": 2
}
