{
 "cells": [
  {
   "cell_type": "markdown",
   "metadata": {},
   "source": [
    "# Challenge Assignment\n",
    "## Cliff Walking with Reinforcement Learning\n",
    "\n",
    "## CSCI E-82A\n",
    "\n",
    "### Name: Noah Peart\n",
    "\n",
    ">**Make sure** you include your name along with the name of your team and team members in the notebook you submit."
   ]
  },
  {
   "cell_type": "markdown",
   "metadata": {},
   "source": [
    "**Your name and team name here:** Horse"
   ]
  },
  {
   "cell_type": "markdown",
   "metadata": {},
   "source": [
    "## Introduction\n",
    "\n",
    "In this challenge you will apply Monte Carlo reinforcement learning algorithms to a classic problem in reinforcement learning, known as the **cliff walking problem**. The cliff walking problem is a type of game. The goal is for the agent to find the highest reward (lowest cost) path from a starting state to the goal.   \n",
    "\n",
    "There are a number of versions of the cliff walking problems which have been used as research benchmarks over the years. You can find a short discussion of the cliff walking problem on page 132 of Sutton and Barto, second edition.    \n",
    "\n",
    "In the general cliff walking problem the agent starts in one corner of the state-space and must travel to goal, or terminal state, in another corner of the state-space. Between the starting state and goal state there is an area with a **cliff**. If the agent falls off a cliff it is sent back to the starting state. A schematic diagram of the state-space is shown in the diagram below.      \n",
    "\n",
    "<img src=\"CliffWalkingDiagram.JPG\" alt=\"Drawing\" style=\"width:500px; height:400px\"/>\n",
    "<center> State-space of cliff-walking problem </center>\n",
    "\n"
   ]
  },
  {
   "cell_type": "markdown",
   "metadata": {},
   "source": [
    "### Problem Description\n",
    "\n",
    "The agent must learn a policy to navigate from the starting state to the terminal state. The properties this problem are as follows:\n",
    "\n",
    "1. The state-space has two **continuous variables**, x and y.\n",
    "2. The starting state is at $x = 0.0$, $y = 0.0$. \n",
    "3. The terminal state has two segments:\n",
    "  - At $y = 0.0$ is in the range $9.0 \\le x \\le 10.0$. \n",
    "  - At $x = 10.0$ is in the range $0.0 \\le y \\le 1.0$.  \n",
    "4. The cliff zone is bounded by:\n",
    "  - $0.0 \\le y \\le 1.0$ and \n",
    "  - $1.0 \\le x \\le 9.0$. \n",
    "5. An agent entering the cliff zone is returned to the starting state.\n",
    "6. The agent moves 1.0 units per time step. \n",
    "7. The 8 possible **discrete actions** are moves in the following directions:  \n",
    "  - +x, \n",
    "  - +x, +y,\n",
    "  - +y\n",
    "  - -x, +y,\n",
    "  - -y,\n",
    "  - -x, -y,\n",
    "  - -y, and\n",
    "  - +x, -y. \n",
    "8. The rewards are:\n",
    "  - -1 for a time step in the state-space,\n",
    "  - -10 for colliding with an edge (barrier) of the state-space,\n",
    "  - -100 for falling off the cliff and returning to the starting state, and \n",
    "  - +1000 for reaching the terminal or goal state. \n",
    "  \n"
   ]
  },
  {
   "cell_type": "markdown",
   "metadata": {},
   "source": [
    "## Instructions\n",
    "\n",
    "In this challenge you and your team will do the following. Include commentary on each component of your algorithms. Make sure you answer the questions.  "
   ]
  },
  {
   "cell_type": "markdown",
   "metadata": {},
   "source": [
    "### Environment Simulator   \n",
    "\n",
    "Your reinforcement learning agent cannot contain any information about the environment other that the starting state and the possible actions. Therefore, you must create an environment simulator, with the following input and output:\n",
    "- Input: Arguments of state, the $(x,y)$ tuple, and discrete action\n",
    "- Output: the new state (s'), reward, and if the new state meets the terminal or goal criteria.\n",
    "\n",
    "Make sure you test your simulator functions carefully. The test cases must include, steps with each of the actions, falling off the cliff from each edge, hitting the barriers, and reaching the goal (terminal) edges. Errors in the simulator will make the rest of this challenge difficult.   \n",
    "\n",
    "> **Note**: For this problem, coordinate state is represented by a tuple of continuous variables. Make sure that you maintain coordinate state as continuous variables for this problem. "
   ]
  },
  {
   "cell_type": "code",
   "execution_count": 1,
   "metadata": {},
   "outputs": [
    {
     "data": {
      "text/plain": [
       "'%.3f'"
      ]
     },
     "execution_count": 1,
     "metadata": {},
     "output_type": "execute_result"
    }
   ],
   "source": [
    "import numpy as np\n",
    "import numpy.random as nr\n",
    "import matplotlib.pyplot as plt\n",
    "from copy import deepcopy\n",
    "import numpy.linalg as la\n",
    "import matplotlib.pyplot as plt\n",
    "from itertools import product\n",
    "import pandas as pd\n",
    "\n",
    "%matplotlib inline\n",
    "%precision 3"
   ]
  },
  {
   "cell_type": "code",
   "execution_count": 2,
   "metadata": {},
   "outputs": [],
   "source": [
    "# Representations of actions and accessor functions\n",
    "moves = [(0,1), (0,-1), (1,0), (1,1), (1,-1), (-1,0), (-1,1), (-1,-1)]\n",
    "\n",
    "def vec_to_move(vec):\n",
    "    v = np.array(vec, dtype=np.float)\n",
    "    if (sum(abs(v)) > 1):\n",
    "        v *= 0.707\n",
    "    return v\n",
    "\n",
    "def get_actions(actions=moves):\n",
    "    \"\"\"Convert actions to numpy arrays, and create reverse lookup tables.\"\"\"\n",
    "    vecs_normalized = list(map(lambda x: vec_to_move(x), actions))\n",
    "    return vecs_normalized, {a: i for i,a in enumerate(actions)},\\\n",
    "        {i: a for i,a in enumerate(actions)}\n",
    "\n",
    "def get_action_index(action):\n",
    "    \"\"\"Return index from action tuple.\"\"\"\n",
    "    return actions_index[action]\n",
    "\n",
    "def get_index_action(index):\n",
    "    \"\"\"Return action tuple from index.\"\"\"\n",
    "    return actions_raw[index]\n",
    "\n",
    "actions, actions_index, index_actions = get_actions()"
   ]
  },
  {
   "cell_type": "code",
   "execution_count": 3,
   "metadata": {},
   "outputs": [
    {
     "data": {
      "text/plain": [
       "[array([0., 1.]),\n",
       " array([ 0., -1.]),\n",
       " array([1., 0.]),\n",
       " array([0.707, 0.707]),\n",
       " array([ 0.707, -0.707]),\n",
       " array([-1.,  0.]),\n",
       " array([-0.707,  0.707]),\n",
       " array([-0.707, -0.707])]"
      ]
     },
     "execution_count": 3,
     "metadata": {},
     "output_type": "execute_result"
    }
   ],
   "source": [
    "actions"
   ]
  },
  {
   "cell_type": "code",
   "execution_count": 4,
   "metadata": {},
   "outputs": [],
   "source": [
    "def is_terminal(loc):\n",
    "    \"\"\"Return True if x,y is in the terminal state.\"\"\"\n",
    "    x, y = loc\n",
    "    return (y <= 0 and x >= 9) or (x >= 10 and y <= 1)\n",
    "\n",
    "def sim_environment(loc, action):\n",
    "    \"\"\"\n",
    "    Update current LOC with ACTION.\n",
    "    :loc is a numpy array of (x, y) of current location\n",
    "    :action is a numpy array representing movement vector (x, y)\n",
    "    \"\"\"\n",
    "    prev = loc\n",
    "    loc = loc + action\n",
    "\n",
    "    # If hits a wall, stays in initial location\n",
    "    if loc[0] < 0 or loc[0] > 9 or loc[1] < 0 or loc[1] > 9:\n",
    "        return prev, -10, False\n",
    "\n",
    "    # Returns to initial location if falls off of cliff\n",
    "    if loc[0] >= 1 and loc[0] <= 9 and loc[0] <= 1:\n",
    "        return np.array([0,0]), -100, False\n",
    "\n",
    "    if is_terminal(loc):\n",
    "        return loc, 1000, True\n",
    "    \n",
    "    return loc, -1, False"
   ]
  },
  {
   "cell_type": "markdown",
   "metadata": {},
   "source": [
    "### Grid Approximation\n",
    "\n",
    "The state-space of the cliff walking problem is continuous. Therefor, you will need to use a **grid approximation** to construct a policy. The policy is specified as the probability of action for each grid cell. For this problem, use a 10x10 grid. \n",
    "\n",
    "> **Note:** While the policy uses a grid approximation, state should be represented as continuous variables."
   ]
  },
  {
   "cell_type": "code",
   "execution_count": 10,
   "metadata": {},
   "outputs": [],
   "source": [
    "def state(x, x_lims = (0.0,10.0), n_tiles = 10):\n",
    "    \"\"\"Function to compute tile state given positon\"\"\"\n",
    "    state = int((x - x_lims[0])/(x_lims[1] - x_lims[0]) * float(n_tiles))\n",
    "    if state > n_tiles - 1:\n",
    "        state = n_tiles - 1\n",
    "    return state\n",
    "\n",
    "def grid_state(loc):\n",
    "    \"\"\"Convert x,y coordinates into single state value.\"\"\"\n",
    "    return state(loc[0]) + 10 * state(loc[1])\n",
    "\n",
    "def grid_index(num):\n",
    "    \"\"\"Convert state to x,y coordinates in grid.\"\"\"\n",
    "    return num % 10, num // 10\n",
    "\n",
    "# Monte Carlo State Value Estimation\n",
    "def take_action(loc, policy, actions=actions):\n",
    "    '''\n",
    "    Function takes action given state using the transition probabilities \n",
    "    of the policy.\n",
    "    '''\n",
    "    ## Find the action given the transistion probabilities defined by the policy.\n",
    "    x_grid, y_grid = state(loc[0]), state(loc[1])\n",
    "    action = actions[nr.choice(8, p = policy[x_grid][y_grid])]\n",
    "    loc, is_terminal, reward =\\\n",
    "        sim_environment(np.array([x_grid, y_grid]), action)\n",
    "    return action, loc, is_terminal, reward"
   ]
  },
  {
   "cell_type": "markdown",
   "metadata": {},
   "source": [
    "### Initial Policy\n",
    "\n",
    "Start with a uniform initial policy. A uniform policy has an equal probability of taking any of the 8 possible actions for each cell in the grid representation.     \n",
    "\n",
    "> **Note:** As has already been stated, the coordinate state representation for this problem is a tuple of coordinate values. However, policy, state-values and action-values are represented with a grid approximation. \n",
    "\n",
    "> **Hint:** You may wish to use a 3-dimensional numpy array to code the policy for this problem. With 8 possible actions, this approach will be easier to work with. \n",
    "\n"
   ]
  },
  {
   "cell_type": "code",
   "execution_count": 6,
   "metadata": {},
   "outputs": [
    {
     "data": {
      "text/plain": [
       "array([[0.125, 0.125, 0.125, 0.125, 0.125, 0.125, 0.125, 0.125],\n",
       "       [0.125, 0.125, 0.125, 0.125, 0.125, 0.125, 0.125, 0.125],\n",
       "       [0.125, 0.125, 0.125, 0.125, 0.125, 0.125, 0.125, 0.125],\n",
       "       [0.125, 0.125, 0.125, 0.125, 0.125, 0.125, 0.125, 0.125],\n",
       "       [0.125, 0.125, 0.125, 0.125, 0.125, 0.125, 0.125, 0.125],\n",
       "       [0.125, 0.125, 0.125, 0.125, 0.125, 0.125, 0.125, 0.125],\n",
       "       [0.125, 0.125, 0.125, 0.125, 0.125, 0.125, 0.125, 0.125],\n",
       "       [0.125, 0.125, 0.125, 0.125, 0.125, 0.125, 0.125, 0.125],\n",
       "       [0.125, 0.125, 0.125, 0.125, 0.125, 0.125, 0.125, 0.125],\n",
       "       [0.125, 0.125, 0.125, 0.125, 0.125, 0.125, 0.125, 0.125]])"
      ]
     },
     "execution_count": 6,
     "metadata": {},
     "output_type": "execute_result"
    }
   ],
   "source": [
    "def get_initial_policy(nactions, x, y):\n",
    "    \"\"\"\n",
    "    Generate initial policy given a number of actions and \n",
    "    x,y-dimensions of grid\n",
    "    \"\"\"\n",
    "    # ensure lists aren't pointers to same memory\n",
    "    ip = [[[1./nactions for i in range(nactions)]\n",
    "           for j in range(x)]\n",
    "          for k in range(y)]\n",
    "    return np.array(ip)\n",
    "\n",
    "initial_policy = get_initial_policy(8, 10, 10)\n",
    "initial_policy[0]"
   ]
  },
  {
   "cell_type": "markdown",
   "metadata": {},
   "source": [
    "### Monte Carlo State Value Estimation   \n",
    "\n",
    "For the initial uniform policy, compute the state values using the Monte Carlo RL algorithm:\n",
    "1. Compute and print the state values for each grid in the representation. Use at least 1,000 episodes. This will take some time to execute.      \n",
    "2. Plot the grid of state values, as an image (e.g. matplotlib [imshow](https://matplotlib.org/3.1.1/api/_as_gen/matplotlib.pyplot.imshow.html)). \n",
    "3. Compute the Forbenious norm (Euclidean norm) of the state value array with [numpy.linalg.norm](https://docs.scipy.org/doc/numpy/reference/generated/numpy.linalg.norm.html). You will use this figure as a basis to compare your improved policy. \n",
    "\n",
    "Study your plot to ensure your state values seem correct. Do these state values seem reasonable given the uniform policy and why? Make sure you pay attention to the state values of the cliff zone.    \n",
    "\n",
    "> **Hint:** Careful testing at each stage of your algorithm development will potentially save you considerable time. Test your function(s) to for a single episode to make sure your algorithm converges. Then test for say 10 episodes to ensure the state values update in a reasonable manner at each episode.    \n",
    "\n",
    "> **Note:** The Monte Carlo episodes can be executed in parallel for production systems. The Markov chain of each episode is statistically independent. "
   ]
  },
  {
   "cell_type": "code",
   "execution_count": 7,
   "metadata": {},
   "outputs": [],
   "source": [
    "def MC_episode(policy, G, n_visits): \n",
    "    '''\n",
    "    Function creates the Monte Carlo samples of one episode.\n",
    "    This function does most of the real work\n",
    "    '''\n",
    "    ## For each episode we use a list to keep track of states we have visited.\n",
    "    ## Once we visit a state we need to accumulate values to get the returns\n",
    "    states_visited = np.zeros(100, dtype=np.bool)\n",
    "    visited = []\n",
    "    \n",
    "    ## Find the starting state\n",
    "    loc_current = np.array([0, 0])\n",
    "    current_state = grid_state(loc_current)\n",
    "    terminal = False\n",
    "    g = 0.0\n",
    "    #i = 0\n",
    "    #plt.axis([0, 10, 0, 10])\n",
    "    #plt.scatter(x_current, y_current)\n",
    "    while not terminal:\n",
    "        ## Find the next action and reward\n",
    "        action, loc_prime, terminal, reward = take_action(loc_current, policy)\n",
    "        #print(\"from: \" + str((x_current, y_current, action)))\n",
    "        #print(\"to: \" + str((x_prime, y_prime, is_terminal, reward)))\n",
    "        ## Add the reward to the states visited if this is a first visit  \n",
    "        if states_visited[current_state]:\n",
    "            ## Mark that the current state has been visited \n",
    "            states_visited[current_state] = True\n",
    "            visited.append(current_state)\n",
    "            ## Add the reward to states visited \n",
    "            for state in visited:\n",
    "                n_visits[state] = n_visits[state] + 1.0\n",
    "                G[state] = G[state] + (reward - G[state])/n_visits[state]\n",
    "        \n",
    "        ## Update the current state for next transition\n",
    "        current_state = grid_state(loc_prime) \n",
    "        #i = i + 1\n",
    "        #plt.scatter(x_current, y_current)\n",
    "    #plt.show()\n",
    "    return (G, n_visits) \n",
    "\n",
    "def MC_state_values(policy, n_episodes, verbose=False):\n",
    "    \"\"\"\n",
    "    Function that evaluates the state value of \n",
    "    a policy using the Monte Carlo method.\n",
    "    \"\"\"\n",
    "    ## Create list of states \n",
    "    n_states = 100\n",
    "    \n",
    "    ## An array to hold the accumulated returns as we visit states\n",
    "    G = np.zeros((n_states))\n",
    "    \n",
    "    ## An array to keep track of how many times we visit each state so we can \n",
    "    ## compute the mean\n",
    "    n_visits = np.zeros((n_states))\n",
    "    \n",
    "    ## Iterate over the episodes\n",
    "    for i in range(n_episodes):\n",
    "        G, n_visits = MC_episode(policy, G, n_visits)\n",
    "        if verbose and n_episodes % 100 == 0: print(f\"episode: {i}\")\n",
    "\n",
    "    return G"
   ]
  },
  {
   "cell_type": "code",
   "execution_count": 8,
   "metadata": {},
   "outputs": [],
   "source": [
    "# Functions to display state values\n",
    "def show_state_values(G):\n",
    "    \"\"\"Show state values with origin in bottom left.\"\"\"\n",
    "    res = [x[::-1] for x in G]\n",
    "    return res[::-1]\n",
    "\n",
    "\n",
    "def plot_state_values(G):\n",
    "    \"\"\"Plot state values as image, with origin in bottom left.\"\"\"\n",
    "    res = [x[::-1] for x in G]\n",
    "    plt.imshow(res, origin='lower')\n",
    "    \n",
    "    \n",
    "def state_value_norm(G):\n",
    "    \"\"\"Euc. norm of state values.\"\"\"\n",
    "    return la.norm(G)"
   ]
  },
  {
   "cell_type": "code",
   "execution_count": 13,
   "metadata": {},
   "outputs": [],
   "source": [
    "# Compute state values for 1000 episodes\n",
    "G = MC_state_values(initial_policy, 1000, verbose=True).reshape((10,10))"
   ]
  },
  {
   "cell_type": "code",
   "execution_count": 12,
   "metadata": {},
   "outputs": [
    {
     "data": {
      "text/plain": [
       "[array([0., 0., 0., 0., 0., 0., 0., 0., 0., 0.]),\n",
       " array([0., 0., 0., 0., 0., 0., 0., 0., 0., 0.]),\n",
       " array([0., 0., 0., 0., 0., 0., 0., 0., 0., 0.]),\n",
       " array([0., 0., 0., 0., 0., 0., 0., 0., 0., 0.]),\n",
       " array([0., 0., 0., 0., 0., 0., 0., 0., 0., 0.]),\n",
       " array([0., 0., 0., 0., 0., 0., 0., 0., 0., 0.]),\n",
       " array([0., 0., 0., 0., 0., 0., 0., 0., 0., 0.]),\n",
       " array([0., 0., 0., 0., 0., 0., 0., 0., 0., 0.]),\n",
       " array([0., 0., 0., 0., 0., 0., 0., 0., 0., 0.]),\n",
       " array([0., 0., 0., 0., 0., 0., 0., 0., 0., 0.])]"
      ]
     },
     "execution_count": 12,
     "metadata": {},
     "output_type": "execute_result"
    }
   ],
   "source": [
    "# Show state values with origin in bottom left\n",
    "show_state_values(G)"
   ]
  },
  {
   "cell_type": "code",
   "execution_count": 43,
   "metadata": {},
   "outputs": [
    {
     "data": {
      "image/png": "[encoded data removed]",
      "text/plain": [
       "<Figure size 432x288 with 1 Axes>"
      ]
     },
     "metadata": {
      "needs_background": "light"
     },
     "output_type": "display_data"
    }
   ],
   "source": [
    "plot_state_values(G)"
   ]
  },
  {
   "cell_type": "code",
   "execution_count": 39,
   "metadata": {},
   "outputs": [
    {
     "data": {
      "text/plain": [
       "52.71426886416521"
      ]
     },
     "execution_count": 39,
     "metadata": {},
     "output_type": "execute_result"
    }
   ],
   "source": [
    "state_value_norm(G)"
   ]
  },
  {
   "cell_type": "markdown",
   "metadata": {},
   "source": [
    "ANS:  Yes, these state values do seem pretty reasonable.  The cliff values are 0 and they are lower further from the goal point and around the edges/cliff where the possible penalties are the highest. They tend to become more positive as they approach the goal, as expected."
   ]
  },
  {
   "cell_type": "markdown",
   "metadata": {},
   "source": [
    "### Monte Carlo State Policy Improvement   \n",
    "\n",
    "Finally, you will perform Monte Carlo RL policy improvement:\n",
    "1. Starting with the uniform policy, compute action-values for each grid in the representation. Use at least 1,000 episodes.      \n",
    "2. Use these action values to find an improved policy.\n",
    "3. To evaluate your updated policy compute the state-values for this policy.  \n",
    "4. Plot the grid of state values for the improved policy, as an image. \n",
    "5. Compute the Forbenious norm (Euclidean norm) of the state value array. \n",
    "\n",
    "Compare the state value plot for the improved policy to the one for the initial uniform policy. Does the improved state values increase generally as distance to the terminal states decreases?  Is this what you expect and why?    \n",
    "\n",
    "Compare the norm of the state values with your improved policy to the norm for the uniform policy. Is the increase significant?  \n",
    "\n",
    "> **Hint:** Careful testing at each stage of your algorithm development will potentially save you considerable time. Test your function(s) to for a single episode to make sure your algorithm converges. Then test for say 10 episodes to ensure the state values update in a reasonable manner at each episode.   \n",
    "\n",
    "> **Note:** You could continue to improve policy using the general policy improvement algorithm (GPI). In the interest of time, you are not required to do so here. "
   ]
  },
  {
   "cell_type": "code",
   "execution_count": null,
   "metadata": {},
   "outputs": [],
   "source": [
    "def MC_action_value_episode(policy, Q, n_visits, inital_state, n_states, n_actions):\n",
    "    '''\n",
    "    Function creates the Monte Carlo samples of action values for one episode.\n",
    "    This function does most of the real work.\n",
    "    '''\n",
    "    ## For each episode we use a list to keep track of states we have visited.\n",
    "    ## Once we visit a state we need to accumulate values to get the returns\n",
    "    state_actions_visited = np.zeros((n_states, n_actions))\n",
    "    x_current = 0.0\n",
    "    y_current = 0.0\n",
    "    current_state = get_grid_state(x_current, y_current)\n",
    "    terminal = False  \n",
    "\n",
    "    while not terminal:\n",
    "        ## Find the next action and reward\n",
    "        #action, s_prime, reward, terminal = take_action(current_state, policy)\n",
    "        action, x_prime, y_prime, terminal, reward =\\\n",
    "            take_action(x_current, y_current, policy)\n",
    "        action_idx = get_action_index(action)         \n",
    "        \n",
    "        ## Check if this state-action has been visited.\n",
    "        if state_actions_visited[current_state, action_idx] != 1.0:\n",
    "            ## Mark that the current state-action has been visited \n",
    "            state_actions_visited[current_state, action_idx] = 1.0  \n",
    "            ## This is first vist MS, so must loop over all state-action pairs and \n",
    "            ## add the reward and increment the count for the ones visited.\n",
    "            for s,a in itertools.product(range(n_states), range(n_actions)):\n",
    "                ## Add reward to if these has been a visit to the state\n",
    "                if state_actions_visited[s,a] == 1.0:\n",
    "                    n_visits[s,a] = n_visits[s,a] + 1.0\n",
    "                    Q[s,a] = Q[s,a] + (reward - Q[s,a])/n_visits[s,a]\n",
    "        \n",
    "        ## Update the current state for next transition\n",
    "        current_state = get_grid_state(x_prime, y_prime)\n",
    "        x_current = x_prime\n",
    "        y_current = y_prime\n",
    "    \n",
    "    return (Q, n_visits)"
   ]
  },
  {
   "cell_type": "code",
   "execution_count": 64,
   "metadata": {},
   "outputs": [],
   "source": [
    "def MC_action_values(policy, Q, n_episodes, inital_state, verbose=False):\n",
    "    '''\n",
    "    Function evaluates the action-values given a policy for the specified number\n",
    "    of episodes and initial state\n",
    "    '''\n",
    "    n_states = 100\n",
    "    n_actions = 8\n",
    "    ## Array to count visits to action-value pairs\n",
    "    n_visits = np.zeros((n_states, n_actions))\n",
    "    ## Dictionary to hold neighbor states\n",
    "    neighbors = {}\n",
    "    \n",
    "    for i in range(n_episodes):\n",
    "        ## One episode of MC\n",
    "        if verbose and i % 10 == 0: print (f\"running episode #{i}\")\n",
    "        Q, n_visits =\\\n",
    "            MC_action_value_episode(\n",
    "                policy, Q, n_visits, initial_state, n_states, n_actions)\n",
    "    return Q\n",
    "\n",
    "\n",
    "def print_Q(Q):\n",
    "    \"\"\"Helper to pretty print Q output\"\"\"\n",
    "    Q = pd.DataFrame(Q, columns = ['N', 'S', 'E', 'NE', 'SE', 'W', 'NW', 'SW'])\n",
    "    print(Q)"
   ]
  },
  {
   "cell_type": "code",
   "execution_count": 70,
   "metadata": {},
   "outputs": [
    {
     "name": "stdout",
     "output_type": "stream",
     "text": [
      "running episode #0\n",
      "running episode #10\n",
      "running episode #20\n",
      "running episode #30\n",
      "running episode #40\n",
      "running episode #50\n",
      "running episode #60\n",
      "running episode #70\n",
      "running episode #80\n",
      "running episode #90\n",
      "running episode #100\n",
      "running episode #110\n",
      "running episode #120\n",
      "running episode #130\n",
      "running episode #140\n",
      "running episode #150\n",
      "running episode #160\n",
      "running episode #170\n",
      "running episode #180\n",
      "running episode #190\n",
      "running episode #200\n",
      "running episode #210\n",
      "running episode #220\n",
      "running episode #230\n",
      "running episode #240\n",
      "running episode #250\n",
      "running episode #260\n",
      "running episode #270\n",
      "running episode #280\n",
      "running episode #290\n",
      "running episode #300\n",
      "running episode #310\n",
      "running episode #320\n",
      "running episode #330\n",
      "running episode #340\n",
      "running episode #350\n",
      "running episode #360\n",
      "running episode #370\n",
      "running episode #380\n",
      "running episode #390\n",
      "running episode #400\n",
      "running episode #410\n",
      "running episode #420\n",
      "running episode #430\n",
      "running episode #440\n",
      "running episode #450\n",
      "running episode #460\n",
      "running episode #470\n",
      "running episode #480\n",
      "running episode #490\n",
      "running episode #500\n",
      "running episode #510\n",
      "running episode #520\n",
      "running episode #530\n",
      "running episode #540\n",
      "running episode #550\n",
      "running episode #560\n",
      "running episode #570\n",
      "running episode #580\n",
      "running episode #590\n",
      "running episode #600\n",
      "running episode #610\n",
      "running episode #620\n",
      "running episode #630\n",
      "running episode #640\n",
      "running episode #650\n",
      "running episode #660\n",
      "running episode #670\n",
      "running episode #680\n",
      "running episode #690\n",
      "running episode #700\n",
      "running episode #710\n",
      "running episode #720\n",
      "running episode #730\n",
      "running episode #740\n",
      "running episode #750\n",
      "running episode #760\n",
      "running episode #770\n",
      "running episode #780\n",
      "running episode #790\n",
      "running episode #800\n",
      "running episode #810\n",
      "running episode #820\n",
      "running episode #830\n",
      "running episode #840\n",
      "running episode #850\n",
      "running episode #860\n",
      "running episode #870\n",
      "running episode #880\n",
      "running episode #890\n",
      "running episode #900\n",
      "running episode #910\n",
      "running episode #920\n",
      "running episode #930\n",
      "running episode #940\n",
      "running episode #950\n",
      "running episode #960\n",
      "running episode #970\n",
      "running episode #980\n",
      "running episode #990\n"
     ]
    }
   ],
   "source": [
    "# Compute action values (long time)\n",
    "n_episodes = 1000\n",
    "initial_state = 0\n",
    "Q = np.zeros((100, 8))\n",
    "\n",
    "Q = MC_action_values(initial_policy, Q, n_episodes, initial_state, verbose=True)"
   ]
  },
  {
   "cell_type": "code",
   "execution_count": 81,
   "metadata": {},
   "outputs": [],
   "source": [
    "def update_policy(policy, Q, epsilon):\n",
    "    '''\n",
    "    Updates the policy based on estimates of Q using an epslion greedy\n",
    "    algorithm. The action with the highest action value is used.\n",
    "    '''\n",
    "    \n",
    "    ## Find the keys for the actions in the policy\n",
    "    keys = actions\n",
    "    \n",
    "    ## Iterate over the states and find the maximm action value.\n",
    "    for state in range(100):\n",
    "        ## First find the index of the max Q values  \n",
    "        q = Q[state,:]\n",
    "        max_action_index = np.where(q == max(q))[0]\n",
    "\n",
    "        ## Find the probabilities for the transitions\n",
    "        n_transitions = float(len(q))\n",
    "        n_max_transitions = float(len(max_action_index))\n",
    "        p_max_transitions =\\\n",
    "            (1.0 - epsilon *(n_transitions - n_max_transitions))/(n_max_transitions)\n",
    "        nx, ny = grid_index(state)\n",
    "        \n",
    "        ## Now assign the probabilities to the policy as epsilon greedy.\n",
    "        for key in keys:\n",
    "            index = get_action_index(key)\n",
    "            if(index in max_action_index): policy[nx][ny][index] = p_max_transitions\n",
    "            else: policy[nx][ny][index] = epsilon\n",
    "    return policy"
   ]
  },
  {
   "cell_type": "code",
   "execution_count": 91,
   "metadata": {},
   "outputs": [
    {
     "data": {
      "text/plain": [
       "[0.000, 0.999, 0.000, 0.000, 0.000, 0.000, 0.000, 0.000]"
      ]
     },
     "execution_count": 91,
     "metadata": {},
     "output_type": "execute_result"
    }
   ],
   "source": [
    "# Update policy based on Q\n",
    "policy = update_policy(deepcopy(initial_policy), Q, 0.0001)\n",
    "policy[0][9]"
   ]
  },
  {
   "cell_type": "code",
   "execution_count": 92,
   "metadata": {},
   "outputs": [],
   "source": [
    "\n",
    "# def get_action_index(action):\n",
    "#     if (action == (0,1)): return 0\n",
    "#     elif (action == (0,-1)): return 1\n",
    "#     elif (action == (1,0)): return 2\n",
    "#     elif (action == (1,1)): return 3\n",
    "#     elif (action == (1,-1)): return 4\n",
    "#     elif (action == (-1,0)): return 5\n",
    "#     elif (action == (-1,1)): return 6\n",
    "#     elif (action == (-1,-1)): return 7\n",
    "    \n",
    "    \n",
    "def arrow_xy(action, prob):\n",
    "    ## Position change given action:\n",
    "    if(action == 0): # move right\n",
    "        a_out = [0, 1]\n",
    "    elif(action == 1): # move right-up\n",
    "        a_out = [0, -1]\n",
    "    elif(action == 2): # move up\n",
    "        a_out = [1, 0]\n",
    "    elif(action == 3): # move left-up\n",
    "        a_out = [1, 1]\n",
    "    elif(action == 4): # move left\n",
    "        a_out = [1, -1]\n",
    "    elif(action == 5): # move left-down\n",
    "        a_out = [-1, 0]\n",
    "    elif(action == 6): # move down\n",
    "        a_out = [-1, 1]\n",
    "    elif(action == 7): # move right-down\n",
    "        a_out = [-1, -1]\n",
    "    return [prob*z for z in a_out]\n",
    "\n",
    "def display_policy(policy, num_cells = 10, lims = 10.0):\n",
    "    '''\n",
    "    Funciton plots arrows in the direction of actions with length \n",
    "    of arrows proportional to probability\n",
    "\n",
    "    Policy argument must be a numpy array with dimensions:\n",
    "    grid x-dimension cell index\n",
    "    grid y-dimension cell index\n",
    "    acton index\n",
    "    '''\n",
    "    ## Find max arrow length \n",
    "    cell_width = lims/float(num_cells)\n",
    "    arrow_length = 0.5 * cell_width\n",
    "\n",
    "    ## Set up the figure area\n",
    "    fig = plt.figure(figsize=(8, 8)) # define plot area\n",
    "    ax = fig.gca() # define axis \n",
    "\n",
    "    ## Iterate over the grid and plot\n",
    "    for x_indx, y_indx, action in product(range(num_cells),range(num_cells),range(8)):\n",
    "        ## Find endpoints of the line segment\n",
    "        move = arrow_xy(action, policy[x_indx][y_indx][action])\n",
    "        x0 = x_indx * cell_width + arrow_length\n",
    "        x1 = x0 + move[0]\n",
    "        y0 = y_indx * cell_width + arrow_length\n",
    "        y1 = y0 + move[1]\n",
    "        ## now plot \n",
    "        # ax.plot([x0,x1],[y0,y1])\n",
    "        ax.annotate(' ', xytext =(x0,y0), xy = (x1,y1), arrowprops = ({'arrowstyle':'->'}))\n",
    "\n",
    "    ## Now plot the grid\n",
    "    ## first the vertical lines\n",
    "    for indx in range(num_cells-1):\n",
    "        x = cell_width *(indx+1)\n",
    "        ax.plot([x,x],[0.0,lims], linestyle='dashed', color='green')\n",
    "    ## now the horrizontal lines\n",
    "    for indx in range(num_cells-1):\n",
    "        y = cell_width *(indx+1)\n",
    "        ax.plot([0.0,lims],[y,y], linestyle='dashed', color='green') \n",
    "    ## and boundaries\n",
    "    ax.plot([0.0,0.0], [0.0,lims], color = 'black')\n",
    "    ax.plot([0.0,lims], [0.0,0.0], color = 'black')\n",
    "    ax.plot([lims,0.0], [lims,lims], color = 'black')\n",
    "    ax.plot([lims,lims], [0.0,lims], color = 'black')"
   ]
  },
  {
   "cell_type": "code",
   "execution_count": 93,
   "metadata": {},
   "outputs": [
    {
     "data": {
      "image/png": "[encoded data removed]",
      "text/plain": [
       "<Figure size 576x576 with 1 Axes>"
      ]
     },
     "metadata": {
      "needs_background": "light"
     },
     "output_type": "display_data"
    }
   ],
   "source": [
    "display_policy(np.array(policy))"
   ]
  },
  {
   "cell_type": "markdown",
   "metadata": {},
   "source": [
    "ANS:\n",
    "\n",
    "ANS:\n",
    "\n",
    "ANS:"
   ]
  },
  {
   "cell_type": "markdown",
   "metadata": {},
   "source": [
    "## Solution\n",
    "\n",
    "Create cells below for your solution to the stated problem. Be sure to include some Markdown text and code comments to explain each component of your algorithm. "
   ]
  },
  {
   "cell_type": "code",
   "execution_count": null,
   "metadata": {},
   "outputs": [],
   "source": []
  }
 ],
 "metadata": {
  "kernelspec": {
   "display_name": "Python 3",
   "language": "python",
   "name": "python3"
  },
  "language_info": {
   "codemirror_mode": {
    "name": "ipython",
    "version": 3
   },
   "file_extension": ".py",
   "mimetype": "text/x-python",
   "name": "python",
   "nbconvert_exporter": "python",
   "pygments_lexer": "ipython3",
   "version": "3.7.3"
  }
 },
 "nbformat": 4,
 "nbformat_minor": 2
}
